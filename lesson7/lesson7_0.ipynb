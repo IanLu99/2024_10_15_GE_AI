{
 "cells": [
  {
   "cell_type": "code",
   "execution_count": 1,
   "metadata": {},
   "outputs": [
    {
     "name": "stdout",
     "output_type": "stream",
     "text": [
      "BMI的計算\n",
      "請輸入姓名:盧先生\n",
      "請輸入身高(cm):176\n",
      "請輸入體重(kg):90\n",
      "盧先生的BMI值:29.05\n",
      "盧先生的體重:輕度肥胖\n",
      "您還要繼續嗎?(y繼續，n結束):n\n",
      "=======================================\n"
     ]
    }
   ],
   "source": [
    "while(True):\n",
    "    print(\"BMI的計算\")\n",
    "    try:\n",
    "        name = input(\"請輸入姓名:\")\n",
    "        print(f\"請輸入姓名:{name}\")\n",
    "        high = eval(input(\"請輸入身高(cm):\"))\n",
    "        print(f\"請輸入身高(cm):{high}\")\n",
    "        weight = eval(input(\"請輸入體重(kg):\"))\n",
    "        print(f'請輸入體重(kg):{weight}')\n",
    "    except Exception :\n",
    "        print(\"格式錯誤，請重新輸入\")\n",
    "        print(\"=======================================\")\n",
    "        continue\n",
    "    BMI = weight / ((high/100)**2)\n",
    "    print(f\"{name}的BMI值:{BMI:.2f}\")\n",
    "    if BMI >=35:\n",
    "        print(f\"{name}的體重:重度肥胖\")\n",
    "    elif BMI >= 30:\n",
    "        print(f\"{name}的體重:中度肥胖\")\n",
    "    elif BMI >= 27:\n",
    "        print(f\"{name}的體重:輕度肥胖\")\n",
    "    elif BMI >= 24:\n",
    "        print(f'{name}的體重:過重')\n",
    "    elif BMI >= 18.5:\n",
    "        print(f'{name}的體重:正常範圍')\n",
    "    else:\n",
    "        print(f'{name}的體重:體重過輕')\n",
    "\n",
    "    value = input(\"您還要繼續嗎?(y繼續，n結束):\")\n",
    "    print(f'您還要繼續嗎?(y繼續，n結束):{value}')\n",
    "    print('=======================================')\n",
    "    if value.upper()=='N':\n",
    "        break"
   ]
  }
 ],
 "metadata": {
  "kernelspec": {
   "display_name": "Python 3",
   "language": "python",
   "name": "python3"
  },
  "language_info": {
   "codemirror_mode": {
    "name": "ipython",
    "version": 3
   },
   "file_extension": ".py",
   "mimetype": "text/x-python",
   "name": "python",
   "nbconvert_exporter": "python",
   "pygments_lexer": "ipython3",
   "version": "3.10.16"
  }
 },
 "nbformat": 4,
 "nbformat_minor": 2
}
